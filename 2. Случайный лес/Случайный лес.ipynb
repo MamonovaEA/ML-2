{
  "nbformat": 4,
  "nbformat_minor": 0,
  "metadata": {
    "colab": {
      "provenance": []
    },
    "kernelspec": {
      "name": "python3",
      "display_name": "Python 3"
    },
    "language_info": {
      "name": "python"
    }
  },
  "cells": [
    {
      "cell_type": "markdown",
      "source": [
        "# Случайный лес"
      ],
      "metadata": {
        "id": "YdBmSEE3-qJj"
      }
    },
    {
      "cell_type": "markdown",
      "source": [
        "\n",
        "## Датасет: churnclean.csv"
      ],
      "metadata": {
        "id": "inZKiqa1AUuA"
      }
    },
    {
      "cell_type": "markdown",
      "source": [
        "\n",
        "\n",
        "\n",
        "*   Загрузить данные\n",
        "*   Удалить выбросы\n",
        "\n",
        "*   Закодировать признаки 'interplan', 'vmailplan', 'churn' булевыми значениями\n",
        "*   Разделить данные на признаки и целевую переменную\n",
        "\n",
        "*   Разделить на подвыборки для обучения и тестовую\n",
        "*   Создать классификатор: RandomForestClassifier с параметрами n= 50, class_weight=\"balanced\"\n",
        "*   Обучить классификатор с помощью кросс-валидации. Параметры: cv=5, scoring='recall'\n",
        "*   Найти среднее значение recall. Сохранить в переменную cv_score.\n",
        "\n",
        "*   Найти значение accuracy. Сохранить в переменную accuracy.\n",
        "\n",
        "*   Обучить RandomForestClassifier c n_estimators от 20 до 100, с шагом 20\n",
        "*   Построить график количества деревьев и ROCAUC значениями. ( n_est - кол-во деревьев, rocauc_list значение rocauc)\n",
        "\n",
        "*   Определить количество деревьев при максимальном Recall. (optimal_n_est)\n",
        "\n"
      ],
      "metadata": {
        "id": "c8srtxVk-u0O"
      }
    },
    {
      "cell_type": "code",
      "execution_count": 1,
      "metadata": {
        "colab": {
          "base_uri": "https://localhost:8080/",
          "height": 1000
        },
        "id": "jsTUTNes-VDz",
        "outputId": "c99850b8-5b92-49ec-ea27-fe8d131fed43"
      },
      "outputs": [
        {
          "output_type": "stream",
          "name": "stdout",
          "text": [
            "<class 'pandas.core.frame.DataFrame'>\n",
            "RangeIndex: 2699 entries, 0 to 2698\n",
            "Data columns (total 18 columns):\n",
            " #   Column         Non-Null Count  Dtype  \n",
            "---  ------         --------------  -----  \n",
            " 0   Unnamed: 0     2699 non-null   int64  \n",
            " 1   state          2699 non-null   object \n",
            " 2   acclength      2699 non-null   int64  \n",
            " 3   areacode       2699 non-null   int64  \n",
            " 4   interplan      2699 non-null   object \n",
            " 5   vmailplan      2699 non-null   object \n",
            " 6   vmailmess      2699 non-null   int64  \n",
            " 7   daycalls       2699 non-null   int64  \n",
            " 8   daycharge      2699 non-null   float64\n",
            " 9   evecalls       2699 non-null   int64  \n",
            " 10  evecharge      2699 non-null   float64\n",
            " 11  nightcalls     2699 non-null   int64  \n",
            " 12  nightcharge    2699 non-null   float64\n",
            " 13  intlmins       2699 non-null   float64\n",
            " 14  intlcalls      2699 non-null   int64  \n",
            " 15  intlcharge     2699 non-null   float64\n",
            " 16  custservcalls  2699 non-null   int64  \n",
            " 17  churn          2699 non-null   object \n",
            "dtypes: float64(5), int64(9), object(4)\n",
            "memory usage: 379.7+ KB\n",
            "Столбец: interplan \n",
            " ['no' 'yes']\n",
            "Столбец: vmailplan \n",
            " ['yes' 'no']\n",
            "Столбец: churn \n",
            " ['no' 'yes']\n",
            "<class 'pandas.core.series.Series'>\n",
            "Train: (1889, 15)(1889,), \n",
            " Test: (810, 15), (810,)\n"
          ]
        },
        {
          "output_type": "display_data",
          "data": {
            "text/plain": [
              "<Figure size 640x480 with 1 Axes>"
            ],
            "image/png": "[encoded data removed]"
          },
          "metadata": {}
        },
        {
          "output_type": "stream",
          "name": "stdout",
          "text": [
            "Среднее значение Recall (CV): 0.40599326599326596\n",
            "Стандартное отклонение Recall (CV): 0.05670433537568786\n",
            "Accuracy: 0.9160493827160494\n",
            "Оптимальное количество деревьев: 100\n",
            "ROC AUC значения: [0.9200242296297185, 0.9253979296860944, 0.9270232340558241, 0.9246362556825679, 0.9288944331825979]\n",
            "Критерии не выполнены.\n"
          ]
        }
      ],
      "source": [
        "import pandas as pd\n",
        "import numpy as np\n",
        "from sklearn.model_selection import train_test_split, cross_val_score\n",
        "from sklearn.ensemble import RandomForestClassifier\n",
        "from sklearn.metrics import accuracy_score, roc_auc_score\n",
        "import matplotlib.pyplot as plt\n",
        "\n",
        "from statistics import stdev\n",
        "\n",
        "#Загружаем датасет\n",
        "df = pd.read_csv('churnclean.csv')\n",
        "df.head()\n",
        "df.info()\n",
        "\n",
        "# Проверим уникальные данные\n",
        "df.nunique()\n",
        "# Удалим уникальные столбцы\n",
        "df.drop(labels=\"Unnamed: 0\", axis=1, inplace=True)\n",
        "# Удалим столбец state\n",
        "df.drop(labels=\"state\", axis=1, inplace=True)\n",
        "# сохраним в отдельную переменную метки класса\n",
        "y = df['churn']\n",
        "y.unique()\n",
        "# закодируем целевую переменную\n",
        "encoded_y = y.map({'no':0, 'yes':1})\n",
        "plt.pie(y.value_counts(), labels=['no', 'yes'])\n",
        "plt.title(\"Распределение целевой переменной\")\n",
        "#Проанализируем значение столбцов object\n",
        "object_cols = df.select_dtypes(\"object\").columns\n",
        "\n",
        "for col in object_cols:\n",
        "    print(f\"Столбец: {col} \\n {df[col].unique()}\")\n",
        "# Закодируем булевые столбцы\n",
        "for col in ['interplan', 'vmailplan', 'churn']:\n",
        "  df[col] = df[col].apply(lambda x:1 if x=='yes' else 0)\n",
        "\n",
        "df.head()\n",
        "X = df.drop(['churn'], axis=1)\n",
        "y = df['churn']\n",
        "\n",
        "#Разделим данные\n",
        "X_train, X_test, y_train, y_test = train_test_split(X,y,test_size=0.3,random_state=101)\n",
        "print(type(y_test))\n",
        "\n",
        "# Посмотрим на размер подвыборок\n",
        "print(f\"Train: {X_train.shape}{y_train.shape}, \\n Test: {X_test.shape}, {y_test.shape}\")\n",
        "\n",
        "# 6. Создать классификатор: RandomForestClassifier с параметрами n=50, class_weight=\"balanced\"\n",
        "rf_clf = RandomForestClassifier(n_estimators=50, class_weight=\"balanced\", random_state=101)\n",
        "\n",
        "# 7. Обучить классификатор с помощью кросс-валидации. Параметры: cv=5, scoring='recall'\n",
        "cv_scores = cross_val_score(rf_clf, X_train, y_train, cv=5, scoring='recall')\n",
        "cv_score = cv_scores.mean()\n",
        "cv_stdev = cv_scores.std()\n",
        "\n",
        "# 8. Найти значение accuracy\n",
        "rf_clf.fit(X_train, y_train)\n",
        "y_pred = rf_clf.predict(X_test)\n",
        "accuracy = accuracy_score(y_test, y_pred)\n",
        "\n",
        "# 9. Обучить RandomForestClassifier c n_estimators от 20 до 100, с шагом 20\n",
        "n_estimators_list = list(range(20, 101, 20))\n",
        "rocauc_list = []\n",
        "recall_list = []\n",
        "\n",
        "for n in n_estimators_list:\n",
        "    rf_clf = RandomForestClassifier(n_estimators=n, class_weight=\"balanced\", random_state=101)\n",
        "    rf_clf.fit(X_train, y_train)\n",
        "\n",
        "    # Вычисляем ROC AUC\n",
        "    y_pred_proba = rf_clf.predict_proba(X_test)[:, 1]\n",
        "    rocauc = roc_auc_score(y_test, y_pred_proba)\n",
        "    rocauc_list.append(rocauc)\n",
        "\n",
        "    # Вычисляем Recall с помощью кросс-валидации\n",
        "    recall_scores = cross_val_score(rf_clf, X_train, y_train, cv=5, scoring='recall')\n",
        "    recall_list.append(recall_scores.mean())\n",
        "\n",
        "# 10. Построить график количества деревьев и ROC AUC\n",
        "plt.plot(n_estimators_list, rocauc_list, marker='o')\n",
        "plt.xlabel('Количество деревьев (n_estimators)')\n",
        "plt.ylabel('ROC AUC')\n",
        "plt.title('Зависимость ROC AUC от количества деревьев')\n",
        "plt.grid(True)\n",
        "plt.show()\n",
        "\n",
        "# 11. Определить количество деревьев при максимальном Recall\n",
        "optimal_n_est = n_estimators_list[np.argmax(recall_list)]\n",
        "\n",
        "# 12. Вывод результатов\n",
        "print(f\"Среднее значение Recall (CV): {cv_score}\")\n",
        "print(f\"Стандартное отклонение Recall (CV): {cv_stdev}\")\n",
        "print(f\"Accuracy: {accuracy}\")\n",
        "print(f\"Оптимальное количество деревьев: {optimal_n_est}\")\n",
        "print(f\"ROC AUC значения: {rocauc_list}\")\n",
        "\n",
        "# 13. Проверка критериев\n",
        "if cv_score >= 0.47 and cv_stdev >= 0.06 and accuracy >= 0.9:\n",
        "    print(\"Все критерии выполнены!\")\n",
        "else:\n",
        "    print(\"Критерии не выполнены.\")"
      ]
    },
    {
      "cell_type": "markdown",
      "source": [
        "## Датасет: Salaries.csv"
      ],
      "metadata": {
        "id": "-NRg_sKkAp-f"
      }
    },
    {
      "cell_type": "markdown",
      "source": [
        "\n",
        "*   Загрузить данные\n",
        "*   Удалить выбросы и дубликаты\n",
        "*   Закодировать признаки с типом object\n",
        "*   Разделить данные на признаки и целевую переменную (salary_in_usd)\n",
        "*   Разделить на подвыборки для обучения и тестовую\n",
        "*   Создать классификатор: RandomForestRegressor с параметрами n=10\n",
        "*   Обучить классификатор\n",
        "*   Найти значение oob. Сохранить в переменную oob_score\n",
        "*   Критерии прохождения задания: oob_score>=0.8\n",
        "\n"
      ],
      "metadata": {
        "id": "91493k92-zPA"
      }
    },
    {
      "cell_type": "code",
      "source": [
        "import pandas as pd\n",
        "import numpy as np\n",
        "from sklearn.ensemble import RandomForestRegressor\n",
        "from sklearn.model_selection import train_test_split\n",
        "from sklearn.preprocessing import LabelEncoder\n",
        "\n",
        "# 1. Загрузить данные\n",
        "df = pd.read_csv('Salaries.csv')\n",
        "\n",
        "# 2. Удалить выбросы и дубликаты\n",
        "# Удаление дубликатов\n",
        "df = df.drop_duplicates()\n",
        "\n",
        "# Удаление выбросов (например, с помощью межквартильного размаха)\n",
        "def remove_outliers(df, column):\n",
        "    Q1 = df[column].quantile(0.25)\n",
        "    Q3 = df[column].quantile(0.75)\n",
        "    IQR = Q3 - Q1\n",
        "    lower_bound = Q1 - 1.5 * IQR\n",
        "    upper_bound = Q3 + 1.5 * IQR\n",
        "    return df[(df[column] >= lower_bound) & (df[column] <= upper_bound)]\n",
        "\n",
        "# Применяем удаление выбросов для числовых столбцов\n",
        "numeric_cols = df.select_dtypes(include=['int64', 'float64']).columns\n",
        "for col in numeric_cols:\n",
        "    df = remove_outliers(df, col)\n",
        "\n",
        "# 3. Закодировать признаки с типом object\n",
        "object_cols = df.select_dtypes(include=['object']).columns\n",
        "label_encoders = {}\n",
        "for col in object_cols:\n",
        "    le = LabelEncoder()\n",
        "    df[col] = le.fit_transform(df[col])\n",
        "    label_encoders[col] = le\n",
        "\n",
        "# 4. Разделить данные на признаки и целевую переменную (salary_in_usd)\n",
        "X = df.drop('salary_in_usd', axis=1)\n",
        "y = df['salary_in_usd']\n",
        "\n",
        "# 5. Разделить на подвыборки для обучения и тестовую\n",
        "X_train, X_test, y_train, y_test = train_test_split(X, y, test_size=0.3, random_state=101)\n",
        "\n",
        "# 6. Создать классификатор: RandomForestRegressor с параметрами n=10\n",
        "rf_reg = RandomForestRegressor(n_estimators=10, oob_score=True, random_state=101)\n",
        "\n",
        "# 7. Обучить классификатор\n",
        "rf_reg.fit(X_train, y_train)\n",
        "\n",
        "# 8. Найти значение oob. Сохранить в переменную oob_score\n",
        "oob_score = rf_reg.oob_score_\n",
        "\n",
        "# 9. Вывод результатов\n",
        "print(f\"OOB Score: {oob_score}\")\n",
        "\n",
        "# 10. Проверка критериев\n",
        "if oob_score >= 0.8:\n",
        "    print(\"Критерий выполнен: OOB Score >= 0.8\")\n",
        "else:\n",
        "    print(\"Критерий не выполнен: OOB Score < 0.8\")"
      ],
      "metadata": {
        "colab": {
          "base_uri": "https://localhost:8080/"
        },
        "id": "7rWqsrGm_Vub",
        "outputId": "9653ab95-8cd0-4e26-d2cd-ef957e2120fe"
      },
      "execution_count": 3,
      "outputs": [
        {
          "output_type": "stream",
          "name": "stdout",
          "text": [
            "OOB Score: 0.8198203970760618\n",
            "Критерий выполнен: OOB Score >= 0.8\n"
          ]
        },
        {
          "output_type": "stream",
          "name": "stderr",
          "text": [
            "/usr/local/lib/python3.11/dist-packages/sklearn/ensemble/_forest.py:612: UserWarning: Some inputs do not have OOB scores. This probably means too few trees were used to compute any reliable OOB estimates.\n",
            "  warn(\n"
          ]
        }
      ]
    }
  ]
}